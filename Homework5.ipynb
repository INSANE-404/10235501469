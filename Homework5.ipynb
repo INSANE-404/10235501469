{
 "cells": [
  {
   "cell_type": "markdown",
   "id": "300a6349",
   "metadata": {},
   "source": [
    "1. 在新数据库中新建一张 user 表,插入几条数据,属性包含:唯一标识(id),姓名(name)性别(sex).年龄(age).联系方式(phone)\n",
    "```sql\n",
    "mysql> CREATE DATABASE HW5;\n",
    "Query OK, 1 row affected (0.01 sec)\n",
    "\n",
    "mysql> SHOW DATABASES;\n",
    "+--------------------+\n",
    "| Database           |\n",
    "+--------------------+\n",
    "| hw5                |\n",
    "| information_schema |\n",
    "| mysql              |\n",
    "| performance_schema |\n",
    "| sys                |\n",
    "+--------------------+\n",
    "5 rows in set (0.00 sec)\n",
    "\n",
    "mysql> USE HW5;\n",
    "Database changed\n",
    "\n",
    "mysql> CREATE TABLE user (\n",
    "    -> id INT AUTO_INCREMENT PRIMARY KEY,\n",
    "    -> name VARCHAR(50) NOT NULL,\n",
    "    -> sex VARCHAR(10) NOT NULL,\n",
    "    -> age INT,\n",
    "    -> phone VARCHAR(20)\n",
    "    -> );\n",
    "Query OK, 0 rows affected (0.02 sec)\n",
    "\n",
    "mysql> INSERT INTO user (name, sex, age, phone) VALUES\n",
    "    -> ('John Doe', 'Male', 25, '123-456-7890'),\n",
    "    -> ('Jane Smith', 'Female', 31, '987-654-3210'),\n",
    "    -> ('Bob Johnson', 'Male', 22, '555-123-4567');\n",
    "Query OK, 3 rows affected (0.01 sec)\n",
    "Records: 3  Duplicates: 0  Warnings: 0\n",
    "```"
   ]
  },
  {
   "cell_type": "markdown",
   "id": "40a65ae0",
   "metadata": {},
   "source": [
    "2. 写出 SQL语句,查询 user 表中所有年龄在 20-30 范围内的用户\n",
    "```sql\n",
    "mysql> SELECT * FROM user WHERE age BETWEEN 20 AND 30;\n",
    "+----+-------------+------+------+--------------+\n",
    "| id | name        | sex  | age  | phone        |\n",
    "+----+-------------+------+------+--------------+\n",
    "|  1 | John Doe    | Male |   25 | 123-456-7890 |\n",
    "|  3 | Bob Johnson | Male |   22 | 555-123-4567 |\n",
    "+----+-------------+------+------+--------------+\n",
    "2 rows in set (0.00 sec)\n",
    "```"
   ]
  },
  {
   "cell_type": "markdown",
   "id": "0496c4c1",
   "metadata": {},
   "source": [
    "3. 写出SQL语句，向user表中添加自己的个人信息，并添加几条和你姓名同姓的虚拟信息。\n",
    "```sql\n",
    "mysql> INSERT INTO user (name, sex, age, phone) VALUES\n",
    "    -> ('Leyi Shao','Female',19,'111-222-3333'),\n",
    "    -> ('Leah Shao','Female',35,'123-234-3333'),\n",
    "    -> ('Roxxine Shao', 'Female', 22, '185-123-4567'),\n",
    "    -> ('Robert Shao','Male',60,'156-2574-2852');\n",
    "Query OK, 4 rows affected (0.01 sec)\n",
    "Records: 4  Duplicates: 0  Warnings: 0\n",
    "```"
   ]
  },
  {
   "cell_type": "markdown",
   "id": "4f0590a6",
   "metadata": {},
   "source": [
    "4. 写出 SQL语句,查询 user 表中年龄在 20-30 范围内,名字包含“你的姓氏”的用户,并按照年龄从大到小排序输出\n",
    "```sql\n",
    "mysql> SELECT * FROM user WHERE age BETWEEN 20 AND 30 AND name LIKE '%Shao%' ORDER BY age DESC;\n",
    "+----+--------------+--------+------+--------------+\n",
    "| id | name         | sex    | age  | phone        |\n",
    "+----+--------------+--------+------+--------------+\n",
    "|  7 | Roxxine Shao | Female |   22 | 185-123-4567 |\n",
    "+----+--------------+--------+------+--------------+\n",
    "1 row in set (0.00 sec)\n",
    "```"
   ]
  },
  {
   "cell_type": "markdown",
   "id": "8bdf60b0",
   "metadata": {},
   "source": [
    "5. 写出 SQL 语句,计算 user 表中所有用户的平均年龄\n",
    "```sql\n",
    "mysql> SELECT AVG(age) FROM user;\n",
    "+----------+\n",
    "| AVG(age) |\n",
    "+----------+\n",
    "|  30.5714 |\n",
    "+----------+\n",
    "1 row in set (0.00 sec)\n",
    "```"
   ]
  },
  {
   "cell_type": "markdown",
   "id": "1cf2f886",
   "metadata": {},
   "source": [
    "6. 新建两张表team 表(id,teamName)和score 表(id,teamid,userid,score)。其中score 表中的 teamid 为指向 team表id 的外键，userid 为指向 user表id的外键\n",
    "```sql\n",
    "mysql> CREATE TABLE team (\n",
    "    -> id INT AUTO_INCREMENT PRIMARY KEY,\n",
    "    -> teamName VARCHAR(50)\n",
    "    -> );\n",
    "Query OK, 0 rows affected (0.01 sec)\n",
    "\n",
    "mysql> CREATE TABLE score (\n",
    "    -> id INT AUTO_INCREMENT PRIMARY KEY,\n",
    "    -> teamid INT,\n",
    "    -> userid INT,\n",
    "    -> score INT,\n",
    "    -> FOREIGN KEY (teamid) REFERENCES team(id),\n",
    "    -> FOREIGN KEY (userid) REFERENCES user(id)\n",
    "    -> );\n",
    "Query OK, 0 rows affected (0.04 sec)\n",
    "```"
   ]
  },
  {
   "cell_type": "markdown",
   "id": "e2e0abe5",
   "metadata": {},
   "source": [
    "7. 在team表中和score表中插入合适的记录，写出 SQL语句,查询 teamName 为“ECNU”的队伍中，年龄小于 20 的用户们，结果不得为空。\n",
    "```sql\n",
    "mysql> INSERT INTO team (teamName) VALUES ('ECNU'), ('SHU');\n",
    "Query OK, 2 rows affected (0.01 sec)\n",
    "\n",
    "mysql> INSERT INTO score (teamid, userid, score) VALUES \n",
    "    -> (1, 4, 90), \n",
    "    -> (2, 5, 75), \n",
    "    -> (1, 2, 80)\n",
    "    -> (1, 3, NULL);\n",
    "Query OK, 3 rows affected (0.01 sec)\n",
    "\n",
    "mysql> SELECT u.* FROM user u\n",
    "    -> JOIN score s ON u.id = s.userid\n",
    "    -> JOIN team t ON s.teamid = t.id\n",
    "    -> WHERE t.teamName = 'ECNU' AND u.age < 20;\n",
    "+----+-----------+--------+------+--------------+\n",
    "| id | name      | sex    | age  | phone        |\n",
    "+----+-----------+--------+------+--------------+\n",
    "|  4 | Leyi Shao | Female |   19 | 111-222-3333 |\n",
    "+----+-----------+--------+------+--------------+\n",
    "1 row in set (0.00 sec)\n",
    "```"
   ]
  },
  {
   "cell_type": "markdown",
   "id": "b280c5ff",
   "metadata": {},
   "source": [
    "8. 写出 SQL 语句,计算 teamName为“ECNU”的总分(假设 score 存在 null值,nul值默认为 0 加入计算)。\n",
    "\n",
    "```sql\n",
    "mysql> SELECT SUM(COALESCE(score,0)) FROM score\n",
    "    -> JOIN team ON score.teamid = team.id\n",
    "    -> WHERE team.teamName = 'ECNU';\n",
    "+------------------------+\n",
    "| SUM(COALESCE(score,0)) |\n",
    "+------------------------+\n",
    "|                    170 |\n",
    "+------------------------+\n",
    "1 row in set (0.00 sec)\n",
    "```"
   ]
  },
  {
   "cell_type": "markdown",
   "id": "b7488943",
   "metadata": {},
   "source": [
    "9. 写出SQL语句，删除user表中个人信息的记录。\n",
    "```sql\n",
    "mysql> DELETE FROM score WHERE userid IN (SELECT id FROM user);\n",
    "Query OK, 4 rows affected (0.01 sec)\n",
    "\n",
    "mysql> DELETE FROM user;\n",
    "Query OK, 7 rows affected (0.01 sec)\n",
    "```"
   ]
  }
 ],
 "metadata": {
  "kernelspec": {
   "display_name": "Python 3 (ipykernel)",
   "language": "python",
   "name": "python3"
  },
  "language_info": {
   "codemirror_mode": {
    "name": "ipython",
    "version": 3
   },
   "file_extension": ".py",
   "mimetype": "text/x-python",
   "name": "python",
   "nbconvert_exporter": "python",
   "pygments_lexer": "ipython3",
   "version": "3.11.5"
  }
 },
 "nbformat": 4,
 "nbformat_minor": 5
}
