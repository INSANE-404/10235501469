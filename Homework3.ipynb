{
 "cells": [
  {
   "cell_type": "code",
   "execution_count": 11,
   "id": "988133f1",
   "metadata": {},
   "outputs": [
    {
     "name": "stdout",
     "output_type": "stream",
     "text": [
      "请输入一个整数：31\n",
      "31 是质数\n"
     ]
    }
   ],
   "source": [
    "#1 编写 Python程序,判断输入a是否为质数\n",
    "def is_prime(a):\n",
    "    if a < 2:\n",
    "        return False\n",
    "    if a <= 3:\n",
    "        return True\n",
    "    if a % 2 == 0:\n",
    "        return False\n",
    "    for i in range(3, int(a**0.5) + 1, 2):\n",
    "        if a % i == 0:\n",
    "            return False\n",
    "    return True\n",
    "\n",
    "a = int(input(\"请输入一个整数：\"))\n",
    "\n",
    "if is_prime(a):\n",
    "    print(f\"{a} 是质数\")\n",
    "else:\n",
    "    print(f\"{a} 不是质数\")"
   ]
  },
  {
   "cell_type": "code",
   "execution_count": 16,
   "id": "7cc611c8",
   "metadata": {},
   "outputs": [
    {
     "name": "stdout",
     "output_type": "stream",
     "text": [
      "input an integer array:9 5 7 2\n",
      "[2, 5, 7, 9]\n"
     ]
    }
   ],
   "source": [
    "#2 插入排序\n",
    "def insertion_sort(array):\n",
    "    for i in range(len(array)):\n",
    "        index = i\n",
    "        while array[index-1] > array[index] and index-1 >= 0:\n",
    "            array[index], array[index-1] = array[index-1], array[index]\n",
    "            index -= 1\n",
    "    return array\n",
    "arr=input(\"input an integer array:\")\n",
    "nums = [int(n) for n in arr.split()]\n",
    "print(insertion_sort(nums))\n"
   ]
  },
  {
   "cell_type": "code",
   "execution_count": 19,
   "id": "92b83b73",
   "metadata": {},
   "outputs": [
    {
     "name": "stdout",
     "output_type": "stream",
     "text": [
      "input an integer array:2 3 4 2\n",
      "[2, 2, 3, 4]\n"
     ]
    }
   ],
   "source": [
    "#3 选择排序\n",
    "def selection_sort(array):\n",
    "    for i in range(len(array)-1):\n",
    "        mini = i\n",
    "        for j in range(i+1, len(array)):\n",
    "            if array[j] < array[mini]:\n",
    "                mini = j\n",
    "        if mini != i:\n",
    "            array[i], array[mini] = array[mini], array[i]\n",
    "    return array\n",
    "arr=input(\"input an integer array:\")\n",
    "nums = [int(n) for n in arr.split()]\n",
    "print(selection_sort(nums))"
   ]
  },
  {
   "cell_type": "code",
   "execution_count": 21,
   "id": "4761faa2",
   "metadata": {},
   "outputs": [
    {
     "name": "stdout",
     "output_type": "stream",
     "text": [
      "input an integer array:3 6 2 4\n",
      "[2, 3, 4, 6]\n"
     ]
    }
   ],
   "source": [
    "#4 快速排序\n",
    "def quick_sort(num):\n",
    "    if len(num) <= 1: \n",
    "        return num\n",
    "    key = num[0] \n",
    "    llist,rlist,mlist = [],[],[key] \n",
    "    for i in range(1,len(num)): \n",
    "        if num[i] > key:\n",
    "            rlist.append(num[i])\n",
    "        elif num[i] < key:\n",
    "            llist.append(num[i])\n",
    "        else:\n",
    "            mlist.append(num[i])\n",
    "    return quick_sort(llist)+mlist+quick_sort(rlist) \n",
    "arr=input(\"input an integer array:\")\n",
    "nums = [int(n) for n in arr.split()]\n",
    "print(quick_sort(nums))"
   ]
  },
  {
   "cell_type": "code",
   "execution_count": 4,
   "id": "b3aac704",
   "metadata": {},
   "outputs": [
    {
     "name": "stdout",
     "output_type": "stream",
     "text": [
      "array length: 100\n",
      "bubble sort: 0.000000 seconds\n",
      "selection sort: 0.000000 seconds\n",
      "insertion sort: 0.000000 seconds\n",
      "\n",
      "\n",
      "array length: 1000\n",
      "bubble sort: 0.080962 seconds\n",
      "selection sort: 0.083446 seconds\n",
      "insertion sort: 0.000000 seconds\n",
      "\n",
      "\n",
      "array length: 10000\n",
      "bubble sort: 9.976171 seconds\n",
      "selection sort: 7.027724 seconds\n",
      "insertion sort: 0.016494 seconds\n",
      "\n",
      "\n"
     ]
    }
   ],
   "source": [
    "#5 使用 Python 随机生成三组长度递增的随机数列，长度分别为100、1000、10000，对生成的随机数组使用不同的排序算法，\n",
    "#例如选择排序和归并排序，至少三种排序方法。对这些数列的数据排序，并分析不同排序算法在不同长度数列下的运行效果，\n",
    "#例如运行时间等指标。（可以使用排序函数）\n",
    "import random\n",
    "import time\n",
    "\n",
    "def random_seq(length):\n",
    "    return sorted(random.sample(range(1, length * 10), length))\n",
    "\n",
    "def bubble_sort(arr):\n",
    "    n = len(arr)\n",
    "    for i in range(n):\n",
    "        for j in range(0, n-i-1):\n",
    "            if arr[j] > arr[j+1]:\n",
    "                arr[j], arr[j+1] = arr[j+1], arr[j]\n",
    "\n",
    "def selection_sort(array):\n",
    "    for i in range(len(array)-1):\n",
    "        mini = i\n",
    "        for j in range(i+1, len(array)):\n",
    "            if array[j] < array[mini]:\n",
    "                mini = j\n",
    "        if mini != i:\n",
    "            array[i], array[mini] = array[mini], array[i]\n",
    "    return array\n",
    "\n",
    "def insertion_sort(array):\n",
    "    for i in range(len(array)):\n",
    "        index = i\n",
    "        while array[index-1] > array[index] and index-1 >= 0:\n",
    "            array[index], array[index-1] = array[index-1], array[index]\n",
    "            index -= 1\n",
    "    return array\n",
    "\n",
    "def time_sort(sort, arr):\n",
    "    start_time = time.time()\n",
    "    sort(arr)\n",
    "    end_time = time.time()\n",
    "    return end_time - start_time\n",
    "\n",
    "def main():\n",
    "    lengths = [100, 1000, 10000]\n",
    "    res = {}\n",
    "\n",
    "    for length in lengths:\n",
    "        seq = random_seq(length)\n",
    "\n",
    "        res[length] = {\n",
    "            'bubble sort': time_sort(bubble_sort, seq.copy()),\n",
    "            'selection sort': time_sort(selection_sort, seq.copy()),\n",
    "            'insertion sort': time_sort(insertion_sort, seq.copy()),\n",
    "        }\n",
    "\n",
    "    for length, times in res.items():\n",
    "        print(f\"array length: {length}\")\n",
    "        for name, t in times.items():\n",
    "            print(f\"{name}: {t:.6f} seconds\")\n",
    "        print(\"\\n\")\n",
    "\n",
    "if __name__ == \"__main__\":\n",
    "    main()\n"
   ]
  },
  {
   "cell_type": "code",
   "execution_count": 22,
   "id": "9b2b591c",
   "metadata": {},
   "outputs": [
    {
     "name": "stdout",
     "output_type": "stream",
     "text": [
      "当前的系统时间是： 2024-11-27 03:57:32.736085\n"
     ]
    }
   ],
   "source": [
    "#6 \n",
    "from datetime import datetime\n",
    "print(\"当前的系统时间是：\", datetime.now())"
   ]
  },
  {
   "cell_type": "code",
   "execution_count": 23,
   "id": "4e3f0e7b",
   "metadata": {},
   "outputs": [
    {
     "name": "stdout",
     "output_type": "stream",
     "text": [
      "语文平均成绩：82.60\n",
      "数学平均成绩：81.00\n",
      "英语平均成绩：81.80\n"
     ]
    }
   ],
   "source": [
    "#7 stuGrade.csv文件中包含5位同学的学号、语文成绩、数学成绩和英语成绩，请先用记事本打开该文件，查看文件内容，\n",
    "#然后编写Python程序，读取该文件，并计算出各科的平均成绩（保留2位小数）\n",
    "import pandas as pd\n",
    "df = pd.read_csv('stuGrade.csv')\n",
    "c = df['chinese'].mean()\n",
    "m = df['math'].mean()\n",
    "e = df['english'].mean()\n",
    "print(f\"语文平均成绩：{c:.2f}\")\n",
    "print(f\"数学平均成绩：{m:.2f}\")\n",
    "print(f\"英语平均成绩：{e:.2f}\")"
   ]
  },
  {
   "cell_type": "code",
   "execution_count": 26,
   "id": "d9fa7d2b",
   "metadata": {},
   "outputs": [
    {
     "name": "stdout",
     "output_type": "stream",
     "text": [
      "写入完成\n"
     ]
    }
   ],
   "source": [
    "#8 请在第7题的代码继续编写Python程序，将以下内容写入my.txt文件中，一并上传到github中。\n",
    "#第1行：你的学号和姓名 \n",
    "#第2行：3门课程的平均成绩（任意课程），保留2位小数，以英文逗号间隔\n",
    "#第3行：系统当前时间，格式例如2020-01-01 12:00:00\n",
    "#第4行：两秒后的系统当前时间（利用sleep()方法）\n",
    "import pandas as pd\n",
    "from datetime import datetime\n",
    "import time\n",
    "df = pd.read_csv('stuGrade.csv')\n",
    "scores = df[['chinese', 'math', 'english']].mean().values.flatten()\n",
    "scores = ','.join(f\"{score:.2f}\" for score in scores)\n",
    "current_time = datetime.now().strftime(\"%Y-%m-%d %H:%M:%S\")\n",
    "time.sleep(2)\n",
    "next_time = datetime.now().strftime(\"%Y-%m-%d %H:%M:%S\")\n",
    "with open('my.txt', 'w', encoding='utf-8') as f:\n",
    "    f.write(f\"10232201469 邵乐怡\\n\")\n",
    "    f.write(f\"{scores}\\n\")\n",
    "    f.write(f\"{current_time}\\n\")\n",
    "    f.write(f\"{next_time}\\n\")\n",
    "print(\"写入完成\")"
   ]
  },
  {
   "cell_type": "code",
   "execution_count": null,
   "id": "75005f72",
   "metadata": {},
   "outputs": [],
   "source": []
  }
 ],
 "metadata": {
  "kernelspec": {
   "display_name": "Python 3 (ipykernel)",
   "language": "python",
   "name": "python3"
  },
  "language_info": {
   "codemirror_mode": {
    "name": "ipython",
    "version": 3
   },
   "file_extension": ".py",
   "mimetype": "text/x-python",
   "name": "python",
   "nbconvert_exporter": "python",
   "pygments_lexer": "ipython3",
   "version": "3.11.5"
  }
 },
 "nbformat": 4,
 "nbformat_minor": 5
}
