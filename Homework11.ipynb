{
 "cells": [
  {
   "cell_type": "markdown",
   "metadata": {},
   "source": [
    "互联网中充斥着大量钓鱼欺诈类网站。这类非法网站通常试图掩人耳目、充当正规网站，而实际上却是在窃取用户的身份、密码、交易等重要信息\n",
    "机器学习在信息安全领域中的一个重要应用就是用来识别这些钓鱼网站。fraudulent.csv在data文件夹中。\n",
    "\n",
    "将原始数据分为训练集、测试集（随机种子请设置为1）（若有需要可以将训练集进一步分为训练集和验证集）。\n",
    "\n",
    "现在请建立一个二分类模型，使用训练集训练模型，再使用测试集测试模型。\n",
    "\n",
    "评估指标为F1值\n",
    "\n",
    "分类模型可采用：k-近邻、决策树、逻辑回归、支持向量机等。\n",
    "\n",
    "可以与周围同学比较一下F1值的大小（越接近1越好），看看谁的数据预处理和分类模型更强。"
   ]
  },
  {
   "cell_type": "code",
   "execution_count": 16,
   "metadata": {},
   "outputs": [
    {
     "name": "stdout",
     "output_type": "stream",
     "text": [
      "contain_IP                 90\n",
      "is_long                    89\n",
      "is_tinyurl                 88\n",
      "contain_at                 82\n",
      "contain_double_slash      116\n",
      "contain_dash               94\n",
      "contain_subdomain          97\n",
      "is_SSL                     96\n",
      "with_long_history        2795\n",
      "contain_icon             1358\n",
      "contain_ext_domain       1527\n",
      "contain_email_to         2079\n",
      "allow_right_click        3407\n",
      "contain_pop_up_window     279\n",
      "contain_Iframe            659\n",
      "has_DNSRecord            1201\n",
      "traffic                  1507\n",
      "google_rank               664\n",
      "y                           0\n",
      "dtype: int64\n",
      "使用k-近邻模型训练，均值填充方法清洗数据，得到的F1 score: 0.855529\n",
      "使用k-近邻模型训练，中位数填充方法清洗数据，得到的F1 score: 0.855529\n",
      "使用k-近邻模型训练，众数填充方法清洗数据，得到的F1 score: 0.855529\n",
      "使用决策树模型训练，均值填充方法清洗数据，得到的F1 score: 0.806683\n",
      "使用决策树模型训练，中位数填充方法清洗数据，得到的F1 score: 0.806375\n",
      "使用决策树模型训练，众数填充方法清洗数据，得到的F1 score: 0.805112\n",
      "使用逻辑回归模型训练，均值填充方法清洗数据，得到的F1 score: 0.852118\n",
      "使用逻辑回归模型训练，中位数填充方法清洗数据，得到的F1 score: 0.852118\n",
      "使用逻辑回归模型训练，众数填充方法清洗数据，得到的F1 score: 0.852118\n",
      "使用支持向量机模型训练，均值填充方法清洗数据，得到的F1 score: 0.860335\n",
      "使用支持向量机模型训练，中位数填充方法清洗数据，得到的F1 score: 0.860335\n",
      "使用支持向量机模型训练，众数填充方法清洗数据，得到的F1 score: 0.860335\n"
     ]
    }
   ],
   "source": [
    "import pandas as pd\n",
    "from sklearn.impute import SimpleImputer\n",
    "from sklearn.model_selection import train_test_split\n",
    "from sklearn.metrics import f1_score\n",
    "from sklearn.neighbors import KNeighborsClassifier\n",
    "from sklearn.tree import DecisionTreeClassifier\n",
    "from sklearn.linear_model import LogisticRegression\n",
    "from sklearn.svm import SVC\n",
    "#使用不同方法进行数据清洗\n",
    "df = pd.read_csv('data/fraudulent.csv')\n",
    "print(df.isnull().sum())\n",
    "imputer_models = {\n",
    "    \"均值填充\": 'mean',\n",
    "    \"中位数填充\": 'median',\n",
    "    \"众数填充\": 'most_frequent'\n",
    "}\n",
    "#选择不同分类模型并计算F1 score：k-近邻、决策树、逻辑回归、支持向量机\n",
    "models = {\n",
    "    \"k-近邻\": KNeighborsClassifier(),\n",
    "    \"决策树\": DecisionTreeClassifier(),\n",
    "    \"逻辑回归\": LogisticRegression(),\n",
    "    \"支持向量机\": SVC()\n",
    "}\n",
    "for name, model in models.items():\n",
    "    for imputer_name, imputer_model in imputer_models.items():\n",
    "        imputer = SimpleImputer(strategy=imputer_model)\n",
    "        df = pd.DataFrame(imputer.fit_transform(df), columns=df.columns)\n",
    "        X = df.drop('y', axis=1)\n",
    "        y = df['y']\n",
    "        X_train, X_test, y_train, y_test = train_test_split(X, y, test_size=0.2, random_state=1)\n",
    "        model.fit(X_train, y_train)\n",
    "        y_pred = model.predict(X_test)\n",
    "        f1 = f1_score(y_test, y_pred)\n",
    "        print(f\"使用{name}模型训练，{imputer_name}方法清洗数据，得到的F1 score: {f1:.6f}\")"
   ]
  }
 ],
 "metadata": {
  "kernelspec": {
   "display_name": "Python 3 (ipykernel)",
   "language": "python",
   "name": "python3"
  },
  "language_info": {
   "codemirror_mode": {
    "name": "ipython",
    "version": 3
   },
   "file_extension": ".py",
   "mimetype": "text/x-python",
   "name": "python",
   "nbconvert_exporter": "python",
   "pygments_lexer": "ipython3",
   "version": "3.11.5"
  }
 },
 "nbformat": 4,
 "nbformat_minor": 2
}
