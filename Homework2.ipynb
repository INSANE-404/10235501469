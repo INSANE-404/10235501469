{
 "cells": [
  {
   "cell_type": "code",
   "execution_count": 1,
   "id": "d52b6591",
   "metadata": {},
   "outputs": [
    {
     "name": "stdout",
     "output_type": "stream",
     "text": [
      "input a positive integer a:3\n",
      "input a positive integer b:4\n",
      "the greatest common divider of a and b is: 1\n"
     ]
    }
   ],
   "source": [
    "#1. 编写 Python 程序，求两个正整数的最大公约数。\n",
    "a=int(input(\"input a positive integer a:\"))\n",
    "b=int(input(\"input a positive integer b:\"))\n",
    "while(a%b):\n",
    "    mod=a%b\n",
    "    a=b\n",
    "    b=mod\n",
    "print(\"the greatest common divider of a and b is:\",b)"
   ]
  },
  {
   "cell_type": "code",
   "execution_count": 6,
   "id": "dedb6b95",
   "metadata": {},
   "outputs": [
    {
     "name": "stdout",
     "output_type": "stream",
     "text": [
      "score:60\n",
      "合格\n"
     ]
    }
   ],
   "source": [
    "#2. 用if语句实现百分制转等级制（考试成绩，60分以下不合格，60—74分合格，75—89分为良好，90分以上为优秀）。\n",
    "s=int(input(\"score:\"))\n",
    "while s>100 or s<0:\n",
    "    s=int(input(\"input a score between 1 and 100:\"))\n",
    "if s>=90:\n",
    "    print(\"优秀\")\n",
    "elif s>=75:\n",
    "    print(\"良好\")\n",
    "elif s>=60:\n",
    "    print(\"合格\")\n",
    "else:\n",
    "    print(\"不合格\")"
   ]
  },
  {
   "cell_type": "code",
   "execution_count": 20,
   "id": "1147e3a5",
   "metadata": {},
   "outputs": [
    {
     "name": "stdout",
     "output_type": "stream",
     "text": [
      "input a positive decimal:0.8125\n",
      "0.1101\n"
     ]
    }
   ],
   "source": [
    "#3. 编写Python程序，完成十进制小数到二进制小数的转换\n",
    "n=float(input(\"input a positive decimal:\"))\n",
    "mod=n-int(n)\n",
    "a=\"0.\"\n",
    "while mod>0:\n",
    "    mod=mod*2\n",
    "    bit=int(mod)\n",
    "    a += str(bit)\n",
    "    mod -= bit\n",
    "print(a)"
   ]
  },
  {
   "cell_type": "code",
   "execution_count": 22,
   "id": "19ead027",
   "metadata": {},
   "outputs": [
    {
     "name": "stdout",
     "output_type": "stream",
     "text": [
      "输入生成浮点数的个数：4\n",
      "19.566934371837228\n",
      "14.49709853755678\n",
      "15.600722955329843\n",
      "10.836396020558759\n"
     ]
    }
   ],
   "source": [
    "#4. 编写Python程序，产生10-20的随机浮点数\n",
    "import random\n",
    "i=int(input(\"input the number of generated floats:\"))\n",
    "for _ in range(i):\n",
    "    f = random.uniform(10, 20)\n",
    "    print(f)"
   ]
  },
  {
   "cell_type": "code",
   "execution_count": 1,
   "id": "24f14deb",
   "metadata": {},
   "outputs": [
    {
     "name": "stdout",
     "output_type": "stream",
     "text": [
      "input a string s = 12321\n",
      "s是回文数\n"
     ]
    }
   ],
   "source": [
    "#5. 编写一个Python函数，判断一个整数是否是回文数。回文数是指正序（从左向右）和倒序（从右向左）读都是一样的数。\n",
    "def is_palindrome(s):\n",
    "    l=len(s)\n",
    "    for _ in range(l):\n",
    "        if s[_]!=s[l-_-1]:\n",
    "            return(\"s不是回文数\")\n",
    "    return(\"s是回文数\")\n",
    "s=input(\"input a string s = \")\n",
    "print(is_palindrome(s))"
   ]
  },
  {
   "cell_type": "code",
   "execution_count": 3,
   "id": "6f8c93bf",
   "metadata": {},
   "outputs": [
    {
     "name": "stdout",
     "output_type": "stream",
     "text": [
      "input N = 7\n",
      "[0, 1, 1, 2, 3, 5, 8]\n"
     ]
    }
   ],
   "source": [
    "#6. 编写一个Python函数，返回一个包含斐波那契数列的前N个数的列表。斐波那契数列是一个数列，其中每个数是前两个数的和，数列以0和1开始。\n",
    "n=int(input(\"input N = \"))\n",
    "list=[0,1]\n",
    "for i in range(n-2):\n",
    "    list.append(int(list[-1])+int(list[-2]))\n",
    "print(list)"
   ]
  },
  {
   "cell_type": "code",
   "execution_count": 9,
   "id": "8e5f012a",
   "metadata": {},
   "outputs": [
    {
     "name": "stdout",
     "output_type": "stream",
     "text": [
      "input an integer array:1 2 5 5 7\n"
     ]
    },
    {
     "data": {
      "text/plain": [
       "5"
      ]
     },
     "execution_count": 9,
     "metadata": {},
     "output_type": "execute_result"
    }
   ],
   "source": [
    "#7. 编写一个Python函数，接受一个整数数组作为输入，返回数组中第二大的数。如果数组中只有一个元素或数组为空，则返回-1。\n",
    "def second_largest():\n",
    "    arr=input(\"input an integer array:\")\n",
    "    nums = [int(n) for n in arr.split()]\n",
    "    if len(nums)<=1:\n",
    "        return -1\n",
    "    else:\n",
    "        max_num=max_num2=nums[0]\n",
    "        for num in nums:\n",
    "            if num>=max_num:\n",
    "                max_num2=max_num\n",
    "                max_num=num\n",
    "            elif num>=max_num2:\n",
    "                max_num2=num\n",
    "        return max_num2\n",
    "second_largest()\n",
    "        "
   ]
  },
  {
   "cell_type": "code",
   "execution_count": 3,
   "id": "e3161e45",
   "metadata": {},
   "outputs": [
    {
     "name": "stdout",
     "output_type": "stream",
     "text": [
      "310106200506011624\n",
      "身份证号 310106200506011624 是否合法: True\n"
     ]
    }
   ],
   "source": [
    "#8. 编写一个函数，使其能够用正则表达式的方式简单验证身份证号是否合法。\n",
    "def valid_id(id_card):\n",
    "    import re\n",
    "    pattern = r'^[1-9]\\d{5}(19|20)\\d{2}(0[1-9]|1[0-2])(0[1-9]|[1-2]\\d|3[0-1])\\d{3}(\\d|X|x)$'\n",
    "    if re.match(pattern, id_card):\n",
    "        return True\n",
    "    else:\n",
    "        return False\n",
    "\n",
    "\n",
    "num = input(\"身份证号：\")\n",
    "is_valid = valid_id(num)\n",
    "print(f\"身份证号：{num} 是否合法：{is_valid}\")"
   ]
  }
 ],
 "metadata": {
  "kernelspec": {
   "display_name": "Python 3 (ipykernel)",
   "language": "python",
   "name": "python3"
  },
  "language_info": {
   "codemirror_mode": {
    "name": "ipython",
    "version": 3
   },
   "file_extension": ".py",
   "mimetype": "text/x-python",
   "name": "python",
   "nbconvert_exporter": "python",
   "pygments_lexer": "ipython3",
   "version": "3.11.5"
  }
 },
 "nbformat": 4,
 "nbformat_minor": 5
}
