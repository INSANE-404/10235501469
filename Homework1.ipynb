{
 "cells": [
  {
   "cell_type": "code",
   "execution_count": 4,
   "id": "0d024aa1",
   "metadata": {},
   "outputs": [
    {
     "name": "stdout",
     "output_type": "stream",
     "text": [
      "★★★★★★★★★★★★\n",
      "★ 数据科学与工程导论 ★\n",
      "★★★★★★★★★★★★"
     ]
    }
   ],
   "source": [
    "#1 \n",
    "for i in range(len(\"数据科学与工程导论\")+3):\n",
    "    print(chr(0x2605),end='')\n",
    "print()\n",
    "print(chr(0x2605),\"数据科学与工程导论\",chr(0x2605))\n",
    "for i in range(len(\"数据科学与工程导论\")+3):\n",
    "    print(chr(0x2605),end='')\n"
   ]
  },
  {
   "cell_type": "code",
   "execution_count": 13,
   "id": "ee76e8bf",
   "metadata": {},
   "outputs": [
    {
     "name": "stdout",
     "output_type": "stream",
     "text": [
      "x=7\n",
      "y=4\n",
      "z=8\n",
      "4 7 8\n"
     ]
    }
   ],
   "source": [
    "#2\n",
    "x=input(\"x=\")\n",
    "y=input(\"y=\")\n",
    "z=input(\"z=\")\n",
    "if x>y:\n",
    "    x,y=y,x\n",
    "if y>z:\n",
    "    y,z=z,y\n",
    "if x>y:\n",
    "    x,y=y,x\n",
    "print(x,y,z)"
   ]
  },
  {
   "cell_type": "code",
   "execution_count": 21,
   "id": "cf47c2dc",
   "metadata": {},
   "outputs": [
    {
     "name": "stdout",
     "output_type": "stream",
     "text": [
      "w=3\n",
      "x=6\n",
      "y=2\n",
      "z=5\n",
      "2 3 5 6\n"
     ]
    }
   ],
   "source": [
    "#3\n",
    "w=input(\"w=\")\n",
    "x=input(\"x=\")\n",
    "y=input(\"y=\")\n",
    "z=input(\"z=\")\n",
    "l=[w,x,y,z]\n",
    "for i in range(len(l),0,-1):\n",
    "    flag=0\n",
    "    for j in range(i-1):\n",
    "        if l[j]>l[j+1]:\n",
    "            l[j],l[j+1] = l[j+1],l[j]\n",
    "            flag = 1 \n",
    "    if not flag:\n",
    "        break\n",
    "print(l[0],l[1],l[2],l[3])\n"
   ]
  },
  {
   "cell_type": "code",
   "execution_count": 27,
   "id": "12972aac",
   "metadata": {},
   "outputs": [
    {
     "name": "stdout",
     "output_type": "stream",
     "text": [
      "1 3 5 7 9 11 13 15 17 19 21 23 25 27 29 31 33 35 37 39 41 43 45 47 49 51 53 55 57 59 61 63 65 67 69 71 73 75 77 79 81 83 85 87 89 91 93 95 97 99 "
     ]
    }
   ],
   "source": [
    "#4\n",
    "for i in range(1,100,2):\n",
    "        print(i,end=\" \")"
   ]
  },
  {
   "cell_type": "code",
   "execution_count": 30,
   "id": "444d7962",
   "metadata": {},
   "outputs": [
    {
     "name": "stdout",
     "output_type": "stream",
     "text": [
      "5050\n"
     ]
    }
   ],
   "source": [
    "#5\n",
    "s=0\n",
    "for i in range(101):\n",
    "    s+=i\n",
    "print(s)"
   ]
  },
  {
   "cell_type": "code",
   "execution_count": 5,
   "id": "69468b9d",
   "metadata": {},
   "outputs": [
    {
     "name": "stdout",
     "output_type": "stream",
     "text": [
      "[5, 4, 3, 2, 1]\n",
      "[5, 4, 3, 2, 1]\n"
     ]
    }
   ],
   "source": [
    "#6\n",
    "l=[1,2,3,4,5]\n",
    "m=[0,0,0,0,0]\n",
    "n=[0,0,0,0,0]\n",
    "for i in range(len(l)):\n",
    "    m[i]=l[4-i]\n",
    "print(m)\n",
    "i=0\n",
    "while i<=len(l)-1:\n",
    "    n[i]=l[4-i]\n",
    "    i+=1\n",
    "print(n)"
   ]
  },
  {
   "cell_type": "code",
   "execution_count": 10,
   "id": "684bf513",
   "metadata": {},
   "outputs": [
    {
     "name": "stdout",
     "output_type": "stream",
     "text": [
      "input string:ddgon\n",
      "有连续字符\n"
     ]
    }
   ],
   "source": [
    "#7\n",
    "S=input(\"input string:\")\n",
    "flag=0\n",
    "for i in range(len(S)-1):\n",
    "    if S[i]==S[i+1]:\n",
    "        flag=1\n",
    "        break\n",
    "if flag:\n",
    "    print(\"有连续字符\")\n",
    "else:\n",
    "    print(\"无连续字符\")"
   ]
  },
  {
   "cell_type": "code",
   "execution_count": 12,
   "id": "b12beb41",
   "metadata": {},
   "outputs": [
    {
     "name": "stdout",
     "output_type": "stream",
     "text": [
      "input string:DataScience and Engineering\n",
      "DataScienceandEngineering\n"
     ]
    }
   ],
   "source": [
    "#8\n",
    "S=input(\"input string:\")\n",
    "S1=S.replace(' ','')\n",
    "print(S1)"
   ]
  },
  {
   "cell_type": "code",
   "execution_count": 7,
   "id": "100cc81a",
   "metadata": {},
   "outputs": [
    {
     "name": "stdout",
     "output_type": "stream",
     "text": [
      "input an integer:27\n",
      "3.0\n"
     ]
    }
   ],
   "source": [
    "#9\n",
    "a=int(input(\"input an integer:\"))\n",
    "tol=1e-6\n",
    "a_n=a/3.0 if a<0 else a**(1/3)\n",
    "for i in range(100):\n",
    "    a_next=(2*a_n/3)+(a/(3*a_n**2))\n",
    "    if abs(a_next-a_n)<tol:\n",
    "        print(a_next)\n",
    "        break\n",
    "    a_n=a_next\n",
    "if i==99:\n",
    "    print(a_n)\n",
    "    \n"
   ]
  },
  {
   "cell_type": "code",
   "execution_count": 5,
   "id": "41acfdb3",
   "metadata": {},
   "outputs": [
    {
     "name": "stdout",
     "output_type": "stream",
     "text": [
      "27\n",
      "10888869450418352160768000000\n"
     ]
    }
   ],
   "source": [
    "#10\n",
    "n=int(input())\n",
    "f=1\n",
    "for i in range(1,n+1,1):\n",
    "    f=f*i\n",
    "print(f)"
   ]
  }
 ],
 "metadata": {
  "kernelspec": {
   "display_name": "Python 3 (ipykernel)",
   "language": "python",
   "name": "python3"
  },
  "language_info": {
   "codemirror_mode": {
    "name": "ipython",
    "version": 3
   },
   "file_extension": ".py",
   "mimetype": "text/x-python",
   "name": "python",
   "nbconvert_exporter": "python",
   "pygments_lexer": "ipython3",
   "version": "3.11.5"
  }
 },
 "nbformat": 4,
 "nbformat_minor": 5
}
